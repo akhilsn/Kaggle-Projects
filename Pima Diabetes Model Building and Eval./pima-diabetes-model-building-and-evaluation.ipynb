{
 "cells": [
  {
   "cell_type": "markdown",
   "metadata": {},
   "source": [
    "## Importing Libraries"
   ]
  },
  {
   "cell_type": "code",
   "execution_count": 1,
   "metadata": {
    "_cell_guid": "b1076dfc-b9ad-4769-8c92-a6c4dae69d19",
    "_uuid": "8f2839f25d086af736a60e9eeb907d3b93b6e0e5"
   },
   "outputs": [],
   "source": [
    "import pandas as pd\n",
    "import numpy as np\n",
    "import matplotlib.pyplot as plt\n",
    "import seaborn as sns\n",
    "import sklearn\n",
    "from sklearn import metrics\n",
    "\n",
    "%matplotlib inline"
   ]
  },
  {
   "cell_type": "markdown",
   "metadata": {},
   "source": [
    "## Data Reading and Understanding"
   ]
  },
  {
   "cell_type": "code",
   "execution_count": 2,
   "metadata": {
    "_cell_guid": "79c7e3d0-c299-4dcb-8224-4455121ee9b0",
    "_uuid": "d629ff2d2480ee46fbb7e2d37f6b5fab8052498a"
   },
   "outputs": [
    {
     "data": {
      "text/html": [
       "<div>\n",
       "<style scoped>\n",
       "    .dataframe tbody tr th:only-of-type {\n",
       "        vertical-align: middle;\n",
       "    }\n",
       "\n",
       "    .dataframe tbody tr th {\n",
       "        vertical-align: top;\n",
       "    }\n",
       "\n",
       "    .dataframe thead th {\n",
       "        text-align: right;\n",
       "    }\n",
       "</style>\n",
       "<table border=\"1\" class=\"dataframe\">\n",
       "  <thead>\n",
       "    <tr style=\"text-align: right;\">\n",
       "      <th></th>\n",
       "      <th>Pregnancies</th>\n",
       "      <th>Glucose</th>\n",
       "      <th>BloodPressure</th>\n",
       "      <th>SkinThickness</th>\n",
       "      <th>Insulin</th>\n",
       "      <th>BMI</th>\n",
       "      <th>DiabetesPedigreeFunction</th>\n",
       "      <th>Age</th>\n",
       "      <th>Outcome</th>\n",
       "    </tr>\n",
       "  </thead>\n",
       "  <tbody>\n",
       "    <tr>\n",
       "      <th>0</th>\n",
       "      <td>6</td>\n",
       "      <td>148</td>\n",
       "      <td>72</td>\n",
       "      <td>35</td>\n",
       "      <td>0</td>\n",
       "      <td>33.6</td>\n",
       "      <td>0.627</td>\n",
       "      <td>50</td>\n",
       "      <td>1</td>\n",
       "    </tr>\n",
       "    <tr>\n",
       "      <th>1</th>\n",
       "      <td>1</td>\n",
       "      <td>85</td>\n",
       "      <td>66</td>\n",
       "      <td>29</td>\n",
       "      <td>0</td>\n",
       "      <td>26.6</td>\n",
       "      <td>0.351</td>\n",
       "      <td>31</td>\n",
       "      <td>0</td>\n",
       "    </tr>\n",
       "    <tr>\n",
       "      <th>2</th>\n",
       "      <td>8</td>\n",
       "      <td>183</td>\n",
       "      <td>64</td>\n",
       "      <td>0</td>\n",
       "      <td>0</td>\n",
       "      <td>23.3</td>\n",
       "      <td>0.672</td>\n",
       "      <td>32</td>\n",
       "      <td>1</td>\n",
       "    </tr>\n",
       "    <tr>\n",
       "      <th>3</th>\n",
       "      <td>1</td>\n",
       "      <td>89</td>\n",
       "      <td>66</td>\n",
       "      <td>23</td>\n",
       "      <td>94</td>\n",
       "      <td>28.1</td>\n",
       "      <td>0.167</td>\n",
       "      <td>21</td>\n",
       "      <td>0</td>\n",
       "    </tr>\n",
       "    <tr>\n",
       "      <th>4</th>\n",
       "      <td>0</td>\n",
       "      <td>137</td>\n",
       "      <td>40</td>\n",
       "      <td>35</td>\n",
       "      <td>168</td>\n",
       "      <td>43.1</td>\n",
       "      <td>2.288</td>\n",
       "      <td>33</td>\n",
       "      <td>1</td>\n",
       "    </tr>\n",
       "  </tbody>\n",
       "</table>\n",
       "</div>"
      ],
      "text/plain": [
       "   Pregnancies  Glucose  BloodPressure  SkinThickness  Insulin   BMI  \\\n",
       "0            6      148             72             35        0  33.6   \n",
       "1            1       85             66             29        0  26.6   \n",
       "2            8      183             64              0        0  23.3   \n",
       "3            1       89             66             23       94  28.1   \n",
       "4            0      137             40             35      168  43.1   \n",
       "\n",
       "   DiabetesPedigreeFunction  Age  Outcome  \n",
       "0                     0.627   50        1  \n",
       "1                     0.351   31        0  \n",
       "2                     0.672   32        1  \n",
       "3                     0.167   21        0  \n",
       "4                     2.288   33        1  "
      ]
     },
     "execution_count": 2,
     "metadata": {},
     "output_type": "execute_result"
    }
   ],
   "source": [
    "pima = pd.read_csv('../input/pima-indians-diabetes-database/diabetes.csv')\n",
    "pima.head()"
   ]
  },
  {
   "cell_type": "code",
   "execution_count": 3,
   "metadata": {},
   "outputs": [
    {
     "name": "stdout",
     "output_type": "stream",
     "text": [
      "<class 'pandas.core.frame.DataFrame'>\n",
      "RangeIndex: 768 entries, 0 to 767\n",
      "Data columns (total 9 columns):\n",
      " #   Column                    Non-Null Count  Dtype  \n",
      "---  ------                    --------------  -----  \n",
      " 0   Pregnancies               768 non-null    int64  \n",
      " 1   Glucose                   768 non-null    int64  \n",
      " 2   BloodPressure             768 non-null    int64  \n",
      " 3   SkinThickness             768 non-null    int64  \n",
      " 4   Insulin                   768 non-null    int64  \n",
      " 5   BMI                       768 non-null    float64\n",
      " 6   DiabetesPedigreeFunction  768 non-null    float64\n",
      " 7   Age                       768 non-null    int64  \n",
      " 8   Outcome                   768 non-null    int64  \n",
      "dtypes: float64(2), int64(7)\n",
      "memory usage: 54.1 KB\n"
     ]
    }
   ],
   "source": [
    "pima.info()"
   ]
  },
  {
   "cell_type": "code",
   "execution_count": 4,
   "metadata": {},
   "outputs": [
    {
     "data": {
      "text/plain": [
       "(768, 9)"
      ]
     },
     "execution_count": 4,
     "metadata": {},
     "output_type": "execute_result"
    }
   ],
   "source": [
    "pima.shape"
   ]
  },
  {
   "cell_type": "code",
   "execution_count": 5,
   "metadata": {},
   "outputs": [
    {
     "data": {
      "text/html": [
       "<div>\n",
       "<style scoped>\n",
       "    .dataframe tbody tr th:only-of-type {\n",
       "        vertical-align: middle;\n",
       "    }\n",
       "\n",
       "    .dataframe tbody tr th {\n",
       "        vertical-align: top;\n",
       "    }\n",
       "\n",
       "    .dataframe thead th {\n",
       "        text-align: right;\n",
       "    }\n",
       "</style>\n",
       "<table border=\"1\" class=\"dataframe\">\n",
       "  <thead>\n",
       "    <tr style=\"text-align: right;\">\n",
       "      <th></th>\n",
       "      <th>Pregnancies</th>\n",
       "      <th>Glucose</th>\n",
       "      <th>BloodPressure</th>\n",
       "      <th>SkinThickness</th>\n",
       "      <th>Insulin</th>\n",
       "      <th>BMI</th>\n",
       "      <th>DiabetesPedigreeFunction</th>\n",
       "      <th>Age</th>\n",
       "      <th>Outcome</th>\n",
       "    </tr>\n",
       "  </thead>\n",
       "  <tbody>\n",
       "    <tr>\n",
       "      <th>count</th>\n",
       "      <td>768.000000</td>\n",
       "      <td>768.000000</td>\n",
       "      <td>768.000000</td>\n",
       "      <td>768.000000</td>\n",
       "      <td>768.000000</td>\n",
       "      <td>768.000000</td>\n",
       "      <td>768.000000</td>\n",
       "      <td>768.000000</td>\n",
       "      <td>768.000000</td>\n",
       "    </tr>\n",
       "    <tr>\n",
       "      <th>mean</th>\n",
       "      <td>3.845052</td>\n",
       "      <td>120.894531</td>\n",
       "      <td>69.105469</td>\n",
       "      <td>20.536458</td>\n",
       "      <td>79.799479</td>\n",
       "      <td>31.992578</td>\n",
       "      <td>0.471876</td>\n",
       "      <td>33.240885</td>\n",
       "      <td>0.348958</td>\n",
       "    </tr>\n",
       "    <tr>\n",
       "      <th>std</th>\n",
       "      <td>3.369578</td>\n",
       "      <td>31.972618</td>\n",
       "      <td>19.355807</td>\n",
       "      <td>15.952218</td>\n",
       "      <td>115.244002</td>\n",
       "      <td>7.884160</td>\n",
       "      <td>0.331329</td>\n",
       "      <td>11.760232</td>\n",
       "      <td>0.476951</td>\n",
       "    </tr>\n",
       "    <tr>\n",
       "      <th>min</th>\n",
       "      <td>0.000000</td>\n",
       "      <td>0.000000</td>\n",
       "      <td>0.000000</td>\n",
       "      <td>0.000000</td>\n",
       "      <td>0.000000</td>\n",
       "      <td>0.000000</td>\n",
       "      <td>0.078000</td>\n",
       "      <td>21.000000</td>\n",
       "      <td>0.000000</td>\n",
       "    </tr>\n",
       "    <tr>\n",
       "      <th>25%</th>\n",
       "      <td>1.000000</td>\n",
       "      <td>99.000000</td>\n",
       "      <td>62.000000</td>\n",
       "      <td>0.000000</td>\n",
       "      <td>0.000000</td>\n",
       "      <td>27.300000</td>\n",
       "      <td>0.243750</td>\n",
       "      <td>24.000000</td>\n",
       "      <td>0.000000</td>\n",
       "    </tr>\n",
       "    <tr>\n",
       "      <th>50%</th>\n",
       "      <td>3.000000</td>\n",
       "      <td>117.000000</td>\n",
       "      <td>72.000000</td>\n",
       "      <td>23.000000</td>\n",
       "      <td>30.500000</td>\n",
       "      <td>32.000000</td>\n",
       "      <td>0.372500</td>\n",
       "      <td>29.000000</td>\n",
       "      <td>0.000000</td>\n",
       "    </tr>\n",
       "    <tr>\n",
       "      <th>75%</th>\n",
       "      <td>6.000000</td>\n",
       "      <td>140.250000</td>\n",
       "      <td>80.000000</td>\n",
       "      <td>32.000000</td>\n",
       "      <td>127.250000</td>\n",
       "      <td>36.600000</td>\n",
       "      <td>0.626250</td>\n",
       "      <td>41.000000</td>\n",
       "      <td>1.000000</td>\n",
       "    </tr>\n",
       "    <tr>\n",
       "      <th>max</th>\n",
       "      <td>17.000000</td>\n",
       "      <td>199.000000</td>\n",
       "      <td>122.000000</td>\n",
       "      <td>99.000000</td>\n",
       "      <td>846.000000</td>\n",
       "      <td>67.100000</td>\n",
       "      <td>2.420000</td>\n",
       "      <td>81.000000</td>\n",
       "      <td>1.000000</td>\n",
       "    </tr>\n",
       "  </tbody>\n",
       "</table>\n",
       "</div>"
      ],
      "text/plain": [
       "       Pregnancies     Glucose  BloodPressure  SkinThickness     Insulin  \\\n",
       "count   768.000000  768.000000     768.000000     768.000000  768.000000   \n",
       "mean      3.845052  120.894531      69.105469      20.536458   79.799479   \n",
       "std       3.369578   31.972618      19.355807      15.952218  115.244002   \n",
       "min       0.000000    0.000000       0.000000       0.000000    0.000000   \n",
       "25%       1.000000   99.000000      62.000000       0.000000    0.000000   \n",
       "50%       3.000000  117.000000      72.000000      23.000000   30.500000   \n",
       "75%       6.000000  140.250000      80.000000      32.000000  127.250000   \n",
       "max      17.000000  199.000000     122.000000      99.000000  846.000000   \n",
       "\n",
       "              BMI  DiabetesPedigreeFunction         Age     Outcome  \n",
       "count  768.000000                768.000000  768.000000  768.000000  \n",
       "mean    31.992578                  0.471876   33.240885    0.348958  \n",
       "std      7.884160                  0.331329   11.760232    0.476951  \n",
       "min      0.000000                  0.078000   21.000000    0.000000  \n",
       "25%     27.300000                  0.243750   24.000000    0.000000  \n",
       "50%     32.000000                  0.372500   29.000000    0.000000  \n",
       "75%     36.600000                  0.626250   41.000000    1.000000  \n",
       "max     67.100000                  2.420000   81.000000    1.000000  "
      ]
     },
     "execution_count": 5,
     "metadata": {},
     "output_type": "execute_result"
    }
   ],
   "source": [
    "pima.describe()"
   ]
  },
  {
   "cell_type": "code",
   "execution_count": 6,
   "metadata": {},
   "outputs": [
    {
     "data": {
      "text/plain": [
       "Index(['Pregnancies', 'Glucose', 'BloodPressure', 'SkinThickness', 'Insulin',\n",
       "       'BMI', 'DiabetesPedigreeFunction', 'Age', 'Outcome'],\n",
       "      dtype='object')"
      ]
     },
     "execution_count": 6,
     "metadata": {},
     "output_type": "execute_result"
    }
   ],
   "source": [
    "pima.columns"
   ]
  },
  {
   "cell_type": "code",
   "execution_count": 7,
   "metadata": {},
   "outputs": [
    {
     "data": {
      "text/plain": [
       "array([ 72,  66,  64,  40,  74,  50,   0,  70,  96,  92,  80,  60,  84,\n",
       "        30,  88,  90,  94,  76,  82,  75,  58,  78,  68, 110,  56,  62,\n",
       "        85,  86,  48,  44,  65, 108,  55, 122,  54,  52,  98, 104,  95,\n",
       "        46, 102, 100,  61,  24,  38, 106, 114])"
      ]
     },
     "execution_count": 7,
     "metadata": {},
     "output_type": "execute_result"
    }
   ],
   "source": [
    "pima.BloodPressure.unique()"
   ]
  },
  {
   "cell_type": "markdown",
   "metadata": {},
   "source": [
    "There doesn't seem to be a strong relationship between the Pregnancies and Diabetic status. Lets also have a box plot for diabetes."
   ]
  },
  {
   "cell_type": "code",
   "execution_count": 8,
   "metadata": {},
   "outputs": [
    {
     "data": {
      "text/plain": [
       "array([50, 31, 32, 21, 33, 30, 26, 29, 53, 54, 34, 57, 59, 51, 27, 41, 43,\n",
       "       22, 38, 60, 28, 45, 35, 46, 56, 37, 48, 40, 25, 24, 58, 42, 44, 39,\n",
       "       36, 23, 61, 69, 62, 55, 65, 47, 52, 66, 49, 63, 67, 72, 81, 64, 70,\n",
       "       68])"
      ]
     },
     "execution_count": 8,
     "metadata": {},
     "output_type": "execute_result"
    }
   ],
   "source": [
    "pima.Age.unique()"
   ]
  },
  {
   "cell_type": "code",
   "execution_count": 9,
   "metadata": {},
   "outputs": [
    {
     "data": {
      "text/plain": [
       "array([33.6, 26.6, 23.3, 28.1, 43.1, 25.6, 31. , 35.3, 30.5,  0. , 37.6,\n",
       "       38. , 27.1, 30.1, 25.8, 30. , 45.8, 29.6, 43.3, 34.6, 39.3, 35.4,\n",
       "       39.8, 29. , 36.6, 31.1, 39.4, 23.2, 22.2, 34.1, 36. , 31.6, 24.8,\n",
       "       19.9, 27.6, 24. , 33.2, 32.9, 38.2, 37.1, 34. , 40.2, 22.7, 45.4,\n",
       "       27.4, 42. , 29.7, 28. , 39.1, 19.4, 24.2, 24.4, 33.7, 34.7, 23. ,\n",
       "       37.7, 46.8, 40.5, 41.5, 25. , 25.4, 32.8, 32.5, 42.7, 19.6, 28.9,\n",
       "       28.6, 43.4, 35.1, 32. , 24.7, 32.6, 43.2, 22.4, 29.3, 24.6, 48.8,\n",
       "       32.4, 38.5, 26.5, 19.1, 46.7, 23.8, 33.9, 20.4, 28.7, 49.7, 39. ,\n",
       "       26.1, 22.5, 39.6, 29.5, 34.3, 37.4, 33.3, 31.2, 28.2, 53.2, 34.2,\n",
       "       26.8, 55. , 42.9, 34.5, 27.9, 38.3, 21.1, 33.8, 30.8, 36.9, 39.5,\n",
       "       27.3, 21.9, 40.6, 47.9, 50. , 25.2, 40.9, 37.2, 44.2, 29.9, 31.9,\n",
       "       28.4, 43.5, 32.7, 67.1, 45. , 34.9, 27.7, 35.9, 22.6, 33.1, 30.4,\n",
       "       52.3, 24.3, 22.9, 34.8, 30.9, 40.1, 23.9, 37.5, 35.5, 42.8, 42.6,\n",
       "       41.8, 35.8, 37.8, 28.8, 23.6, 35.7, 36.7, 45.2, 44. , 46.2, 35. ,\n",
       "       43.6, 44.1, 18.4, 29.2, 25.9, 32.1, 36.3, 40. , 25.1, 27.5, 45.6,\n",
       "       27.8, 24.9, 25.3, 37.9, 27. , 26. , 38.7, 20.8, 36.1, 30.7, 32.3,\n",
       "       52.9, 21. , 39.7, 25.5, 26.2, 19.3, 38.1, 23.5, 45.5, 23.1, 39.9,\n",
       "       36.8, 21.8, 41. , 42.2, 34.4, 27.2, 36.5, 29.8, 39.2, 38.4, 36.2,\n",
       "       48.3, 20. , 22.3, 45.7, 23.7, 22.1, 42.1, 42.4, 18.2, 26.4, 45.3,\n",
       "       37. , 24.5, 32.2, 59.4, 21.2, 26.7, 30.2, 46.1, 41.3, 38.8, 35.2,\n",
       "       42.3, 40.7, 46.5, 33.5, 37.3, 30.3, 26.3, 21.7, 36.4, 28.5, 26.9,\n",
       "       38.6, 31.3, 19.5, 20.1, 40.8, 23.4, 28.3, 38.9, 57.3, 35.6, 49.6,\n",
       "       44.6, 24.1, 44.5, 41.2, 49.3, 46.3])"
      ]
     },
     "execution_count": 9,
     "metadata": {},
     "output_type": "execute_result"
    }
   ],
   "source": [
    "pima.BMI.unique()"
   ]
  },
  {
   "cell_type": "code",
   "execution_count": 10,
   "metadata": {},
   "outputs": [
    {
     "data": {
      "text/plain": [
       "array([35, 29,  0, 23, 32, 45, 19, 47, 38, 30, 41, 33, 26, 15, 36, 11, 31,\n",
       "       37, 42, 25, 18, 24, 39, 27, 21, 34, 10, 60, 13, 20, 22, 28, 54, 40,\n",
       "       51, 56, 14, 17, 50, 44, 12, 46, 16,  7, 52, 43, 48,  8, 49, 63, 99])"
      ]
     },
     "execution_count": 10,
     "metadata": {},
     "output_type": "execute_result"
    }
   ],
   "source": [
    "pima.SkinThickness.unique()"
   ]
  },
  {
   "cell_type": "markdown",
   "metadata": {},
   "source": [
    "## Data Visualization"
   ]
  },
  {
   "cell_type": "code",
   "execution_count": 11,
   "metadata": {},
   "outputs": [
    {
     "data": {
      "text/plain": [
       "<matplotlib.axes._subplots.AxesSubplot at 0x7f22521b1210>"
      ]
     },
     "execution_count": 11,
     "metadata": {},
     "output_type": "execute_result"
    },
    {
     "data": {
      "image/png": "[encoded data removed]",
      "text/plain": [
       "<Figure size 432x288 with 1 Axes>"
      ]
     },
     "metadata": {
      "needs_background": "light"
     },
     "output_type": "display_data"
    }
   ],
   "source": [
    "sns.boxplot(pima.Pregnancies)"
   ]
  },
  {
   "cell_type": "markdown",
   "metadata": {},
   "source": [
    "The Data consists of some females who had more than 10 pregnancies in the past."
   ]
  },
  {
   "cell_type": "markdown",
   "metadata": {},
   "source": [
    "![alt text](https://img.buzzfeed.com/buzzfeed-static/static/2017-09/21/19/asset/buzzfeed-prod-fastlane-03/anigif_sub-buzz-4876-1506035360-1.gif)"
   ]
  },
  {
   "cell_type": "code",
   "execution_count": 12,
   "metadata": {},
   "outputs": [
    {
     "data": {
      "text/plain": [
       "<matplotlib.axes._subplots.AxesSubplot at 0x7f22500b9150>"
      ]
     },
     "execution_count": 12,
     "metadata": {},
     "output_type": "execute_result"
    },
    {
     "data": {
      "image/png": "[encoded data removed]",
      "text/plain": [
       "<Figure size 720x288 with 2 Axes>"
      ]
     },
     "metadata": {
      "needs_background": "light"
     },
     "output_type": "display_data"
    }
   ],
   "source": [
    "plt.figure(figsize = (10,4))\n",
    "plt.subplot(1,2,1)\n",
    "plt.title('Pregnancies Count')\n",
    "sns.countplot(pima['Pregnancies'])\n",
    "plt.subplot(1,2,2)\n",
    "plt.title('Pregnancies Count across diabetic and Non diabetics')\n",
    "sns.countplot(pima['Pregnancies'], hue = pima['Outcome'])"
   ]
  },
  {
   "cell_type": "markdown",
   "metadata": {},
   "source": [
    "There does not seem to be any strong relation between number of pregnancies and whether the person has diabetes."
   ]
  },
  {
   "cell_type": "code",
   "execution_count": 13,
   "metadata": {},
   "outputs": [
    {
     "data": {
      "text/plain": [
       "<matplotlib.axes._subplots.AxesSubplot at 0x7f224ff06610>"
      ]
     },
     "execution_count": 13,
     "metadata": {},
     "output_type": "execute_result"
    },
    {
     "data": {
      "image/png": "[encoded data removed]",
      "text/plain": [
       "<Figure size 1800x720 with 2 Axes>"
      ]
     },
     "metadata": {
      "needs_background": "light"
     },
     "output_type": "display_data"
    }
   ],
   "source": [
    "plt.figure(figsize = (25,10))\n",
    "plt.subplot(2,1,1)\n",
    "plt.title('Age Count')\n",
    "sns.countplot(pima.sort_values(by= 'Age').Age)\n",
    "plt.subplot(2,1,2)\n",
    "plt.title('Age Count across diabetic and Non diabetics')\n",
    "sns.countplot(pima.sort_values(by= 'Age').Age, hue = pima['Outcome'])"
   ]
  },
  {
   "cell_type": "markdown",
   "metadata": {},
   "source": [
    "The data consists of mostly young or middle aged females. And the diabetic patients are mostly middle-aged or older women. "
   ]
  },
  {
   "cell_type": "code",
   "execution_count": 14,
   "metadata": {},
   "outputs": [
    {
     "data": {
      "text/plain": [
       "<matplotlib.legend.Legend at 0x7f225a049650>"
      ]
     },
     "execution_count": 14,
     "metadata": {},
     "output_type": "execute_result"
    },
    {
     "data": {
      "image/png": "[encoded data removed]",
      "text/plain": [
       "<Figure size 720x504 with 1 Axes>"
      ]
     },
     "metadata": {
      "needs_background": "light"
     },
     "output_type": "display_data"
    }
   ],
   "source": [
    "# School Holiday\n",
    "plt.rcParams['figure.figsize'] = (10,7)\n",
    "for i in [0,1] :\n",
    "    data = pima[pima.Outcome == i]\n",
    "    if(len(data) == 0):\n",
    "        continue\n",
    "    plt.scatter(x = data.Age, y = data.BloodPressure, alpha = 0.6, label = i)\n",
    "plt.title('Age vs BloodPressure')\n",
    "plt.xlabel('Age')\n",
    "plt.ylabel('BloodPressure')\n",
    "plt.legend()"
   ]
  },
  {
   "cell_type": "code",
   "execution_count": 15,
   "metadata": {},
   "outputs": [
    {
     "data": {
      "text/plain": [
       "<matplotlib.legend.Legend at 0x7f224f61ed50>"
      ]
     },
     "execution_count": 15,
     "metadata": {},
     "output_type": "execute_result"
    },
    {
     "data": {
      "image/png": "[encoded data removed]",
      "text/plain": [
       "<Figure size 720x504 with 1 Axes>"
      ]
     },
     "metadata": {
      "needs_background": "light"
     },
     "output_type": "display_data"
    }
   ],
   "source": [
    "# School Holiday\n",
    "plt.rcParams['figure.figsize'] = (10,7)\n",
    "for i in [0,1] :\n",
    "    data = pima[pima.Outcome == i]\n",
    "    if(len(data) == 0):\n",
    "        continue\n",
    "    plt.scatter(x = data.Age, y = data.BMI, alpha = 0.6, label = i)\n",
    "plt.title('Age vs BMI')\n",
    "plt.xlabel('Age')\n",
    "plt.ylabel('BMI')\n",
    "plt.legend()"
   ]
  },
  {
   "cell_type": "code",
   "execution_count": 16,
   "metadata": {},
   "outputs": [
    {
     "data": {
      "text/plain": [
       "<matplotlib.legend.Legend at 0x7f224f62c990>"
      ]
     },
     "execution_count": 16,
     "metadata": {},
     "output_type": "execute_result"
    },
    {
     "data": {
      "image/png": "[encoded data removed]",
      "text/plain": [
       "<Figure size 720x504 with 1 Axes>"
      ]
     },
     "metadata": {
      "needs_background": "light"
     },
     "output_type": "display_data"
    }
   ],
   "source": [
    "# School Holiday\n",
    "plt.rcParams['figure.figsize'] = (10,7)\n",
    "for i in [0,1] :\n",
    "    data = pima[pima.Outcome == i]\n",
    "    if(len(data) == 0):\n",
    "        continue\n",
    "    plt.scatter(x = data.Insulin, y = data.DiabetesPedigreeFunction, alpha = 0.6, label = i)\n",
    "plt.title('PedigreeFunction vs Insulin')\n",
    "plt.xlabel('PedigreeFunction')\n",
    "plt.ylabel('Insulin')\n",
    "plt.legend()"
   ]
  },
  {
   "cell_type": "markdown",
   "metadata": {},
   "source": [
    "Diabetes pedigree function (a function which scores likelihood of diabetes based on family history)."
   ]
  },
  {
   "cell_type": "code",
   "execution_count": 17,
   "metadata": {},
   "outputs": [
    {
     "data": {
      "text/plain": [
       "<matplotlib.legend.Legend at 0x7f224fab0f10>"
      ]
     },
     "execution_count": 17,
     "metadata": {},
     "output_type": "execute_result"
    },
    {
     "data": {
      "image/png": "[encoded data removed]",
      "text/plain": [
       "<Figure size 720x504 with 1 Axes>"
      ]
     },
     "metadata": {
      "needs_background": "light"
     },
     "output_type": "display_data"
    }
   ],
   "source": [
    "# School Holiday\n",
    "plt.rcParams['figure.figsize'] = (10,7)\n",
    "for i in [0,1] :\n",
    "    data = pima[pima.Outcome == i]\n",
    "    if(len(data) == 0):\n",
    "        continue\n",
    "    plt.scatter(x = data.BMI, y = data.SkinThickness, alpha = 0.6, label = i)\n",
    "plt.title('BMI vs SkinThickness')\n",
    "plt.xlabel('BMI')\n",
    "plt.ylabel('SkinThickness')\n",
    "plt.legend()"
   ]
  },
  {
   "cell_type": "markdown",
   "metadata": {},
   "source": [
    "More BMI (obesity), more the skin thickness.\n",
    "Also note for some females, the skin thickness given is zero. We shall fix it soon with Imputation."
   ]
  },
  {
   "cell_type": "markdown",
   "metadata": {},
   "source": [
    "Most of the diabetic patiets are 25+."
   ]
  },
  {
   "cell_type": "code",
   "execution_count": 18,
   "metadata": {},
   "outputs": [
    {
     "data": {
      "text/plain": [
       "<matplotlib.axes._subplots.AxesSubplot at 0x7f224f9aa790>"
      ]
     },
     "execution_count": 18,
     "metadata": {},
     "output_type": "execute_result"
    },
    {
     "data": {
      "image/png": "[encoded data removed]",
      "text/plain": [
       "<Figure size 720x504 with 2 Axes>"
      ]
     },
     "metadata": {
      "needs_background": "light"
     },
     "output_type": "display_data"
    }
   ],
   "source": [
    "corrmat = pima.corr()\n",
    "top_corr_feat = corrmat.index\n",
    "sns.heatmap(pima[top_corr_feat].corr(), annot = True, cmap = 'BrBG')"
   ]
  },
  {
   "cell_type": "code",
   "execution_count": 19,
   "metadata": {},
   "outputs": [
    {
     "name": "stdout",
     "output_type": "stream",
     "text": [
      "No of entries for Glucose being 0:  5\n",
      "No of entries for BloodPressure being 0:  35\n",
      "No of entries for SkinThickness being 0:  227\n",
      "No of entries for Insulin being 0:  374\n",
      "No of entries for BMI being 0:  11\n"
     ]
    }
   ],
   "source": [
    "print('No of entries for Glucose being 0: ',len(pima[pima.Glucose == 0]))\n",
    "print('No of entries for BloodPressure being 0: ',len(pima[pima.BloodPressure == 0]))\n",
    "print('No of entries for SkinThickness being 0: ',len(pima[pima.SkinThickness == 0]))\n",
    "print('No of entries for Insulin being 0: ',len(pima[pima.Insulin == 0]))\n",
    "print('No of entries for BMI being 0: ',len(pima[pima.BMI == 0]))"
   ]
  },
  {
   "cell_type": "code",
   "execution_count": 20,
   "metadata": {},
   "outputs": [],
   "source": [
    "# Train Test Split\n",
    "y = pima.pop('Outcome')\n",
    "X = pima\n",
    "\n",
    "from sklearn.model_selection import train_test_split\n",
    "X_train, X_test, y_train, y_test = train_test_split(X, y, train_size = 0.7, random_state = 100)"
   ]
  },
  {
   "cell_type": "markdown",
   "metadata": {},
   "source": [
    "## Data Imputation"
   ]
  },
  {
   "cell_type": "code",
   "execution_count": 21,
   "metadata": {},
   "outputs": [],
   "source": [
    "from sklearn.impute import SimpleImputer\n",
    "fillvalues = SimpleImputer(missing_values = 0, strategy = 'mean')\n",
    "\n",
    "X_train = fillvalues.fit_transform(X_train)\n",
    "X_test = fillvalues.transform(X_test)"
   ]
  },
  {
   "cell_type": "markdown",
   "metadata": {},
   "source": [
    "## Model Building and Evaluation"
   ]
  },
  {
   "cell_type": "markdown",
   "metadata": {},
   "source": [
    "### Random Forest CLassifier"
   ]
  },
  {
   "cell_type": "code",
   "execution_count": 22,
   "metadata": {},
   "outputs": [
    {
     "data": {
      "text/plain": [
       "RandomForestClassifier(bootstrap=True, ccp_alpha=0.0, class_weight=None,\n",
       "                       criterion='gini', max_depth=None, max_features='auto',\n",
       "                       max_leaf_nodes=None, max_samples=None,\n",
       "                       min_impurity_decrease=0.0, min_impurity_split=None,\n",
       "                       min_samples_leaf=1, min_samples_split=2,\n",
       "                       min_weight_fraction_leaf=0.0, n_estimators=100,\n",
       "                       n_jobs=None, oob_score=False, random_state=100,\n",
       "                       verbose=0, warm_start=False)"
      ]
     },
     "execution_count": 22,
     "metadata": {},
     "output_type": "execute_result"
    }
   ],
   "source": [
    "from sklearn.ensemble import RandomForestClassifier\n",
    "random_forest_model = RandomForestClassifier(random_state = 100)\n",
    "random_forest_model.fit(X_train, y_train)"
   ]
  },
  {
   "cell_type": "code",
   "execution_count": 23,
   "metadata": {},
   "outputs": [
    {
     "data": {
      "text/html": [
       "<div>\n",
       "<style scoped>\n",
       "    .dataframe tbody tr th:only-of-type {\n",
       "        vertical-align: middle;\n",
       "    }\n",
       "\n",
       "    .dataframe tbody tr th {\n",
       "        vertical-align: top;\n",
       "    }\n",
       "\n",
       "    .dataframe thead th {\n",
       "        text-align: right;\n",
       "    }\n",
       "</style>\n",
       "<table border=\"1\" class=\"dataframe\">\n",
       "  <thead>\n",
       "    <tr style=\"text-align: right;\">\n",
       "      <th></th>\n",
       "      <th>Diabetes</th>\n",
       "      <th>Diabetes_Pred</th>\n",
       "    </tr>\n",
       "  </thead>\n",
       "  <tbody>\n",
       "    <tr>\n",
       "      <th>0</th>\n",
       "      <td>1</td>\n",
       "      <td>1</td>\n",
       "    </tr>\n",
       "    <tr>\n",
       "      <th>1</th>\n",
       "      <td>0</td>\n",
       "      <td>0</td>\n",
       "    </tr>\n",
       "    <tr>\n",
       "      <th>2</th>\n",
       "      <td>1</td>\n",
       "      <td>1</td>\n",
       "    </tr>\n",
       "    <tr>\n",
       "      <th>3</th>\n",
       "      <td>1</td>\n",
       "      <td>1</td>\n",
       "    </tr>\n",
       "    <tr>\n",
       "      <th>4</th>\n",
       "      <td>0</td>\n",
       "      <td>0</td>\n",
       "    </tr>\n",
       "  </tbody>\n",
       "</table>\n",
       "</div>"
      ],
      "text/plain": [
       "   Diabetes  Diabetes_Pred\n",
       "0         1              1\n",
       "1         0              0\n",
       "2         1              1\n",
       "3         1              1\n",
       "4         0              0"
      ]
     },
     "execution_count": 23,
     "metadata": {},
     "output_type": "execute_result"
    }
   ],
   "source": [
    "y_train_predict = random_forest_model.predict(X_train)\n",
    "y_train_pred = pd.DataFrame({'Diabetes':y_train.values, 'Diabetes_Pred':y_train_predict})\n",
    "\n",
    "# Let's see the head\n",
    "y_train_pred.head()"
   ]
  },
  {
   "cell_type": "code",
   "execution_count": 24,
   "metadata": {},
   "outputs": [
    {
     "data": {
      "text/plain": [
       "array([[350,   0],\n",
       "       [  0, 187]])"
      ]
     },
     "execution_count": 24,
     "metadata": {},
     "output_type": "execute_result"
    }
   ],
   "source": [
    "# Let's take a look at the confusion matrix again \n",
    "confusion = sklearn.metrics.confusion_matrix(y_train_pred.Diabetes, y_train_pred.Diabetes_Pred )\n",
    "confusion"
   ]
  },
  {
   "cell_type": "markdown",
   "metadata": {},
   "source": [
    "Our RandomForest model clearly got overfit on the training data. Lets try out hyperparameter tuning"
   ]
  },
  {
   "cell_type": "markdown",
   "metadata": {},
   "source": [
    "### Hyperparameter Tuning"
   ]
  },
  {
   "cell_type": "code",
   "execution_count": 25,
   "metadata": {},
   "outputs": [
    {
     "data": {
      "text/plain": [
       "GridSearchCV(cv=5, error_score=nan,\n",
       "             estimator=RandomForestClassifier(bootstrap=True, ccp_alpha=0.0,\n",
       "                                              class_weight=None,\n",
       "                                              criterion='gini', max_depth=None,\n",
       "                                              max_features='auto',\n",
       "                                              max_leaf_nodes=None,\n",
       "                                              max_samples=None,\n",
       "                                              min_impurity_decrease=0.0,\n",
       "                                              min_impurity_split=None,\n",
       "                                              min_samples_leaf=1,\n",
       "                                              min_samples_split=2,\n",
       "                                              min_weight_fraction_leaf=0.0,\n",
       "                                              n_estimators=100, n_jobs=None,\n",
       "                                              oob_score=False, random_state=100,\n",
       "                                              verbose=0, warm_start=False),\n",
       "             iid='deprecated', n_jobs=None,\n",
       "             param_grid={'max_depth': range(1, 40)}, pre_dispatch='2*n_jobs',\n",
       "             refit=True, return_train_score=True, scoring='accuracy',\n",
       "             verbose=0)"
      ]
     },
     "execution_count": 25,
     "metadata": {},
     "output_type": "execute_result"
    }
   ],
   "source": [
    "# GridSearchCV to find optimal max_depth\n",
    "from sklearn.model_selection import KFold\n",
    "from sklearn.model_selection import GridSearchCV\n",
    "\n",
    "\n",
    "# specify number of folds for k-fold CV\n",
    "n_folds = 5\n",
    "\n",
    "# parameters to build the model on\n",
    "parameters = {'max_depth': range(1, 40)}\n",
    "\n",
    "# instantiate the model\n",
    "rforest = RandomForestClassifier(criterion = \"gini\", \n",
    "                               random_state = 100)\n",
    "\n",
    "# fit tree on training data\n",
    "forest = GridSearchCV(rforest, parameters, \n",
    "                    cv=n_folds, \n",
    "                   scoring=\"accuracy\", return_train_score=True)\n",
    "forest.fit(X_train, y_train)"
   ]
  },
  {
   "cell_type": "code",
   "execution_count": 26,
   "metadata": {},
   "outputs": [
    {
     "data": {
      "text/html": [
       "<div>\n",
       "<style scoped>\n",
       "    .dataframe tbody tr th:only-of-type {\n",
       "        vertical-align: middle;\n",
       "    }\n",
       "\n",
       "    .dataframe tbody tr th {\n",
       "        vertical-align: top;\n",
       "    }\n",
       "\n",
       "    .dataframe thead th {\n",
       "        text-align: right;\n",
       "    }\n",
       "</style>\n",
       "<table border=\"1\" class=\"dataframe\">\n",
       "  <thead>\n",
       "    <tr style=\"text-align: right;\">\n",
       "      <th></th>\n",
       "      <th>mean_fit_time</th>\n",
       "      <th>std_fit_time</th>\n",
       "      <th>mean_score_time</th>\n",
       "      <th>std_score_time</th>\n",
       "      <th>param_max_depth</th>\n",
       "      <th>params</th>\n",
       "      <th>split0_test_score</th>\n",
       "      <th>split1_test_score</th>\n",
       "      <th>split2_test_score</th>\n",
       "      <th>split3_test_score</th>\n",
       "      <th>...</th>\n",
       "      <th>mean_test_score</th>\n",
       "      <th>std_test_score</th>\n",
       "      <th>rank_test_score</th>\n",
       "      <th>split0_train_score</th>\n",
       "      <th>split1_train_score</th>\n",
       "      <th>split2_train_score</th>\n",
       "      <th>split3_train_score</th>\n",
       "      <th>split4_train_score</th>\n",
       "      <th>mean_train_score</th>\n",
       "      <th>std_train_score</th>\n",
       "    </tr>\n",
       "  </thead>\n",
       "  <tbody>\n",
       "    <tr>\n",
       "      <th>0</th>\n",
       "      <td>0.214805</td>\n",
       "      <td>0.004744</td>\n",
       "      <td>0.010375</td>\n",
       "      <td>0.000075</td>\n",
       "      <td>1</td>\n",
       "      <td>{'max_depth': 1}</td>\n",
       "      <td>0.638889</td>\n",
       "      <td>0.675926</td>\n",
       "      <td>0.654206</td>\n",
       "      <td>0.663551</td>\n",
       "      <td>...</td>\n",
       "      <td>0.662963</td>\n",
       "      <td>0.015468</td>\n",
       "      <td>39</td>\n",
       "      <td>0.671329</td>\n",
       "      <td>0.671329</td>\n",
       "      <td>0.660465</td>\n",
       "      <td>0.669767</td>\n",
       "      <td>0.665116</td>\n",
       "      <td>0.667601</td>\n",
       "      <td>0.004233</td>\n",
       "    </tr>\n",
       "    <tr>\n",
       "      <th>1</th>\n",
       "      <td>0.216093</td>\n",
       "      <td>0.004087</td>\n",
       "      <td>0.010443</td>\n",
       "      <td>0.000081</td>\n",
       "      <td>2</td>\n",
       "      <td>{'max_depth': 2}</td>\n",
       "      <td>0.740741</td>\n",
       "      <td>0.675926</td>\n",
       "      <td>0.757009</td>\n",
       "      <td>0.700935</td>\n",
       "      <td>...</td>\n",
       "      <td>0.720717</td>\n",
       "      <td>0.028927</td>\n",
       "      <td>38</td>\n",
       "      <td>0.780886</td>\n",
       "      <td>0.780886</td>\n",
       "      <td>0.758140</td>\n",
       "      <td>0.788372</td>\n",
       "      <td>0.769767</td>\n",
       "      <td>0.775610</td>\n",
       "      <td>0.010563</td>\n",
       "    </tr>\n",
       "    <tr>\n",
       "      <th>2</th>\n",
       "      <td>0.222489</td>\n",
       "      <td>0.003540</td>\n",
       "      <td>0.010679</td>\n",
       "      <td>0.000188</td>\n",
       "      <td>3</td>\n",
       "      <td>{'max_depth': 3}</td>\n",
       "      <td>0.787037</td>\n",
       "      <td>0.731481</td>\n",
       "      <td>0.775701</td>\n",
       "      <td>0.747664</td>\n",
       "      <td>...</td>\n",
       "      <td>0.763517</td>\n",
       "      <td>0.020629</td>\n",
       "      <td>37</td>\n",
       "      <td>0.836830</td>\n",
       "      <td>0.827506</td>\n",
       "      <td>0.820930</td>\n",
       "      <td>0.825581</td>\n",
       "      <td>0.827907</td>\n",
       "      <td>0.827751</td>\n",
       "      <td>0.005172</td>\n",
       "    </tr>\n",
       "    <tr>\n",
       "      <th>3</th>\n",
       "      <td>0.226567</td>\n",
       "      <td>0.006180</td>\n",
       "      <td>0.010879</td>\n",
       "      <td>0.000460</td>\n",
       "      <td>4</td>\n",
       "      <td>{'max_depth': 4}</td>\n",
       "      <td>0.805556</td>\n",
       "      <td>0.750000</td>\n",
       "      <td>0.803738</td>\n",
       "      <td>0.766355</td>\n",
       "      <td>...</td>\n",
       "      <td>0.787747</td>\n",
       "      <td>0.024889</td>\n",
       "      <td>6</td>\n",
       "      <td>0.857809</td>\n",
       "      <td>0.857809</td>\n",
       "      <td>0.853488</td>\n",
       "      <td>0.855814</td>\n",
       "      <td>0.851163</td>\n",
       "      <td>0.855217</td>\n",
       "      <td>0.002577</td>\n",
       "    </tr>\n",
       "    <tr>\n",
       "      <th>4</th>\n",
       "      <td>0.229192</td>\n",
       "      <td>0.002094</td>\n",
       "      <td>0.011275</td>\n",
       "      <td>0.000847</td>\n",
       "      <td>5</td>\n",
       "      <td>{'max_depth': 5}</td>\n",
       "      <td>0.777778</td>\n",
       "      <td>0.759259</td>\n",
       "      <td>0.803738</td>\n",
       "      <td>0.766355</td>\n",
       "      <td>...</td>\n",
       "      <td>0.778435</td>\n",
       "      <td>0.015479</td>\n",
       "      <td>34</td>\n",
       "      <td>0.883450</td>\n",
       "      <td>0.892774</td>\n",
       "      <td>0.895349</td>\n",
       "      <td>0.888372</td>\n",
       "      <td>0.888372</td>\n",
       "      <td>0.889663</td>\n",
       "      <td>0.004097</td>\n",
       "    </tr>\n",
       "  </tbody>\n",
       "</table>\n",
       "<p>5 rows × 21 columns</p>\n",
       "</div>"
      ],
      "text/plain": [
       "   mean_fit_time  std_fit_time  mean_score_time  std_score_time  \\\n",
       "0       0.214805      0.004744         0.010375        0.000075   \n",
       "1       0.216093      0.004087         0.010443        0.000081   \n",
       "2       0.222489      0.003540         0.010679        0.000188   \n",
       "3       0.226567      0.006180         0.010879        0.000460   \n",
       "4       0.229192      0.002094         0.011275        0.000847   \n",
       "\n",
       "  param_max_depth            params  split0_test_score  split1_test_score  \\\n",
       "0               1  {'max_depth': 1}           0.638889           0.675926   \n",
       "1               2  {'max_depth': 2}           0.740741           0.675926   \n",
       "2               3  {'max_depth': 3}           0.787037           0.731481   \n",
       "3               4  {'max_depth': 4}           0.805556           0.750000   \n",
       "4               5  {'max_depth': 5}           0.777778           0.759259   \n",
       "\n",
       "   split2_test_score  split3_test_score  ...  mean_test_score  std_test_score  \\\n",
       "0           0.654206           0.663551  ...         0.662963        0.015468   \n",
       "1           0.757009           0.700935  ...         0.720717        0.028927   \n",
       "2           0.775701           0.747664  ...         0.763517        0.020629   \n",
       "3           0.803738           0.766355  ...         0.787747        0.024889   \n",
       "4           0.803738           0.766355  ...         0.778435        0.015479   \n",
       "\n",
       "   rank_test_score  split0_train_score  split1_train_score  \\\n",
       "0               39            0.671329            0.671329   \n",
       "1               38            0.780886            0.780886   \n",
       "2               37            0.836830            0.827506   \n",
       "3                6            0.857809            0.857809   \n",
       "4               34            0.883450            0.892774   \n",
       "\n",
       "   split2_train_score  split3_train_score  split4_train_score  \\\n",
       "0            0.660465            0.669767            0.665116   \n",
       "1            0.758140            0.788372            0.769767   \n",
       "2            0.820930            0.825581            0.827907   \n",
       "3            0.853488            0.855814            0.851163   \n",
       "4            0.895349            0.888372            0.888372   \n",
       "\n",
       "   mean_train_score  std_train_score  \n",
       "0          0.667601         0.004233  \n",
       "1          0.775610         0.010563  \n",
       "2          0.827751         0.005172  \n",
       "3          0.855217         0.002577  \n",
       "4          0.889663         0.004097  \n",
       "\n",
       "[5 rows x 21 columns]"
      ]
     },
     "execution_count": 26,
     "metadata": {},
     "output_type": "execute_result"
    }
   ],
   "source": [
    "# scores of GridSearch CV\n",
    "scores = forest.cv_results_\n",
    "pd.DataFrame(scores).head()"
   ]
  },
  {
   "cell_type": "code",
   "execution_count": 27,
   "metadata": {},
   "outputs": [
    {
     "data": {
      "image/png": "[encoded data removed]",
      "text/plain": [
       "<Figure size 720x504 with 1 Axes>"
      ]
     },
     "metadata": {
      "needs_background": "light"
     },
     "output_type": "display_data"
    }
   ],
   "source": [
    "# plotting accuracies with max_depth\n",
    "plt.figure()\n",
    "plt.plot(scores[\"param_max_depth\"], \n",
    "         scores[\"mean_train_score\"], \n",
    "         label=\"training accuracy\")\n",
    "plt.plot(scores[\"param_max_depth\"], \n",
    "         scores[\"mean_test_score\"], \n",
    "         label=\"test accuracy\")\n",
    "plt.xlabel(\"max_depth\")\n",
    "plt.ylabel(\"Accuracy\")\n",
    "plt.legend()\n",
    "plt.show()"
   ]
  },
  {
   "cell_type": "code",
   "execution_count": 28,
   "metadata": {},
   "outputs": [
    {
     "data": {
      "text/plain": [
       "RandomForestClassifier(bootstrap=True, ccp_alpha=0.0, class_weight=None,\n",
       "                       criterion='gini', max_depth=7, max_features='auto',\n",
       "                       max_leaf_nodes=None, max_samples=None,\n",
       "                       min_impurity_decrease=0.0, min_impurity_split=None,\n",
       "                       min_samples_leaf=1, min_samples_split=2,\n",
       "                       min_weight_fraction_leaf=0.0, n_estimators=100,\n",
       "                       n_jobs=None, oob_score=False, random_state=100,\n",
       "                       verbose=0, warm_start=False)"
      ]
     },
     "execution_count": 28,
     "metadata": {},
     "output_type": "execute_result"
    }
   ],
   "source": [
    "# From above graph, the best max_depth value looks to 7. Lets also make use og the `Model.best_params_` to confirm our finding\n",
    "forest.best_estimator_"
   ]
  },
  {
   "cell_type": "code",
   "execution_count": 29,
   "metadata": {},
   "outputs": [
    {
     "data": {
      "text/plain": [
       "RandomForestClassifier(bootstrap=True, ccp_alpha=0.0, class_weight=None,\n",
       "                       criterion='gini', max_depth=7, max_features='auto',\n",
       "                       max_leaf_nodes=None, max_samples=None,\n",
       "                       min_impurity_decrease=0.0, min_impurity_split=None,\n",
       "                       min_samples_leaf=1, min_samples_split=2,\n",
       "                       min_weight_fraction_leaf=0.0, n_estimators=100,\n",
       "                       n_jobs=None, oob_score=False, random_state=100,\n",
       "                       verbose=0, warm_start=False)"
      ]
     },
     "execution_count": 29,
     "metadata": {},
     "output_type": "execute_result"
    }
   ],
   "source": [
    "forest1 = RandomForestClassifier(max_depth = 7, criterion = \"gini\", \n",
    "                               random_state = 100)\n",
    "forest1.fit(X_train, y_train)"
   ]
  },
  {
   "cell_type": "code",
   "execution_count": 30,
   "metadata": {},
   "outputs": [
    {
     "data": {
      "text/html": [
       "<div>\n",
       "<style scoped>\n",
       "    .dataframe tbody tr th:only-of-type {\n",
       "        vertical-align: middle;\n",
       "    }\n",
       "\n",
       "    .dataframe tbody tr th {\n",
       "        vertical-align: top;\n",
       "    }\n",
       "\n",
       "    .dataframe thead th {\n",
       "        text-align: right;\n",
       "    }\n",
       "</style>\n",
       "<table border=\"1\" class=\"dataframe\">\n",
       "  <thead>\n",
       "    <tr style=\"text-align: right;\">\n",
       "      <th></th>\n",
       "      <th>Diabetes</th>\n",
       "      <th>Diabetes_Pred</th>\n",
       "    </tr>\n",
       "  </thead>\n",
       "  <tbody>\n",
       "    <tr>\n",
       "      <th>0</th>\n",
       "      <td>1</td>\n",
       "      <td>1</td>\n",
       "    </tr>\n",
       "    <tr>\n",
       "      <th>1</th>\n",
       "      <td>0</td>\n",
       "      <td>0</td>\n",
       "    </tr>\n",
       "    <tr>\n",
       "      <th>2</th>\n",
       "      <td>1</td>\n",
       "      <td>1</td>\n",
       "    </tr>\n",
       "    <tr>\n",
       "      <th>3</th>\n",
       "      <td>1</td>\n",
       "      <td>1</td>\n",
       "    </tr>\n",
       "    <tr>\n",
       "      <th>4</th>\n",
       "      <td>0</td>\n",
       "      <td>0</td>\n",
       "    </tr>\n",
       "  </tbody>\n",
       "</table>\n",
       "</div>"
      ],
      "text/plain": [
       "   Diabetes  Diabetes_Pred\n",
       "0         1              1\n",
       "1         0              0\n",
       "2         1              1\n",
       "3         1              1\n",
       "4         0              0"
      ]
     },
     "execution_count": 30,
     "metadata": {},
     "output_type": "execute_result"
    }
   ],
   "source": [
    "y_train_predict = forest1.predict(X_train)\n",
    "y_train_pred = pd.DataFrame({'Diabetes':y_train.values, 'Diabetes_Pred':y_train_predict})\n",
    "\n",
    "# Let's see the head\n",
    "y_train_pred.head()"
   ]
  },
  {
   "cell_type": "code",
   "execution_count": 31,
   "metadata": {},
   "outputs": [
    {
     "data": {
      "text/plain": [
       "array([[337,  13],\n",
       "       [ 24, 163]])"
      ]
     },
     "execution_count": 31,
     "metadata": {},
     "output_type": "execute_result"
    }
   ],
   "source": [
    "# Let's take a look at the confusion matrix again \n",
    "confusion = sklearn.metrics.confusion_matrix(y_train_pred.Diabetes, y_train_pred.Diabetes_Pred )\n",
    "confusion"
   ]
  },
  {
   "cell_type": "code",
   "execution_count": 32,
   "metadata": {},
   "outputs": [
    {
     "name": "stdout",
     "output_type": "stream",
     "text": [
      "              precision    recall  f1-score   support\n",
      "\n",
      "           0       0.77      0.81      0.79       150\n",
      "           1       0.61      0.56      0.58        81\n",
      "\n",
      "    accuracy                           0.72       231\n",
      "   macro avg       0.69      0.68      0.68       231\n",
      "weighted avg       0.71      0.72      0.72       231\n",
      "\n",
      "[[121  29]\n",
      " [ 36  45]]\n"
     ]
    }
   ],
   "source": [
    "# classification metrics\n",
    "from sklearn.metrics import classification_report,confusion_matrix\n",
    "y_pred = forest1.predict(X_test)\n",
    "print(classification_report(y_test, y_pred))\n",
    "\n",
    "# confusion matrix on test data\n",
    "print(confusion_matrix(y_test,y_pred))"
   ]
  },
  {
   "cell_type": "code",
   "execution_count": 33,
   "metadata": {},
   "outputs": [
    {
     "name": "stdout",
     "output_type": "stream",
     "text": [
      "AUC: 78.41%\n"
     ]
    }
   ],
   "source": [
    "# Lets also look at the roc auc. Note that for roc auc, we would need the predicted prob and not the labels.\n",
    "\n",
    "y_pred_auc = forest1.predict_proba(X_test)\n",
    "roc = metrics.roc_auc_score(y_test, y_pred_auc[:, 1])\n",
    "print(\"AUC: %.2f%%\" % (roc * 100.0))"
   ]
  },
  {
   "cell_type": "markdown",
   "metadata": {},
   "source": [
    "So here we are getting an accuracy of 71.864%, and roc-auc of 68.11%.\n",
    "\n",
    "Lets try another model using XGBoost, and see if we get any better reusults."
   ]
  },
  {
   "cell_type": "markdown",
   "metadata": {},
   "source": [
    "### XGBoost"
   ]
  },
  {
   "cell_type": "code",
   "execution_count": 34,
   "metadata": {},
   "outputs": [
    {
     "name": "stdout",
     "output_type": "stream",
     "text": [
      "AUC: 78.28%\n"
     ]
    }
   ],
   "source": [
    "from xgboost import XGBClassifier\n",
    "\n",
    "# fit model on training data with default hyperparameters\n",
    "model = XGBClassifier()\n",
    "model.fit(X_train, y_train)\n",
    "\n",
    "# make predictions for test data\n",
    "# use predict_proba since we need probabilities to compute auc\n",
    "y_pred = model.predict_proba(X_test)\n",
    "\n",
    "# evaluate predictions\n",
    "roc = metrics.roc_auc_score(y_test, y_pred[:, 1])\n",
    "print(\"AUC: %.2f%%\" % (roc * 100.0))"
   ]
  },
  {
   "cell_type": "markdown",
   "metadata": {},
   "source": [
    "With all default hyperparameters, we are getting an improved roc auc of 78.28%. Lets try hyperparameter tuning and see if we can get any further better results."
   ]
  },
  {
   "cell_type": "markdown",
   "metadata": {},
   "source": [
    "### Hyperparameter Tuning"
   ]
  },
  {
   "cell_type": "code",
   "execution_count": 35,
   "metadata": {},
   "outputs": [],
   "source": [
    "# hyperparameter tuning with XGBoost\n",
    "\n",
    "# creating a KFold object \n",
    "folds = 3\n",
    "\n",
    "# specify range of hyperparameters\n",
    "param_grid = {'learning_rate': [0.2, 0.4, 0.6], \n",
    "             'subsample': [0.2, 0.4, 0.6, 0.8]}          \n",
    "\n",
    "\n",
    "# specify model\n",
    "xgb_model = XGBClassifier(max_depth=2, n_estimators=200)\n",
    "\n",
    "# set up GridSearchCV()\n",
    "model_cv = GridSearchCV(estimator = xgb_model, \n",
    "                        param_grid = param_grid, \n",
    "                        scoring= 'roc_auc', \n",
    "                        cv = folds, \n",
    "                        verbose = 1,\n",
    "                        return_train_score=True)      \n"
   ]
  },
  {
   "cell_type": "code",
   "execution_count": 36,
   "metadata": {},
   "outputs": [
    {
     "name": "stdout",
     "output_type": "stream",
     "text": [
      "Fitting 3 folds for each of 12 candidates, totalling 36 fits\n"
     ]
    },
    {
     "name": "stderr",
     "output_type": "stream",
     "text": [
      "[Parallel(n_jobs=1)]: Using backend SequentialBackend with 1 concurrent workers.\n",
      "[Parallel(n_jobs=1)]: Done  36 out of  36 | elapsed:    1.9s finished\n"
     ]
    },
    {
     "data": {
      "text/plain": [
       "GridSearchCV(cv=3, error_score=nan,\n",
       "             estimator=XGBClassifier(base_score=None, booster=None,\n",
       "                                     colsample_bylevel=None,\n",
       "                                     colsample_bynode=None,\n",
       "                                     colsample_bytree=None, gamma=None,\n",
       "                                     gpu_id=None, importance_type='gain',\n",
       "                                     interaction_constraints=None,\n",
       "                                     learning_rate=None, max_delta_step=None,\n",
       "                                     max_depth=2, min_child_weight=None,\n",
       "                                     missing=nan, monotone_constraints=None,\n",
       "                                     n_estimato...\n",
       "                                     objective='binary:logistic',\n",
       "                                     random_state=None, reg_alpha=None,\n",
       "                                     reg_lambda=None, scale_pos_weight=None,\n",
       "                                     subsample=None, tree_method=None,\n",
       "                                     validate_parameters=False,\n",
       "                                     verbosity=None),\n",
       "             iid='deprecated', n_jobs=None,\n",
       "             param_grid={'learning_rate': [0.2, 0.4, 0.6],\n",
       "                         'subsample': [0.2, 0.4, 0.6, 0.8]},\n",
       "             pre_dispatch='2*n_jobs', refit=True, return_train_score=True,\n",
       "             scoring='roc_auc', verbose=1)"
      ]
     },
     "execution_count": 36,
     "metadata": {},
     "output_type": "execute_result"
    }
   ],
   "source": [
    "# fit the model\n",
    "model_cv.fit(X_train, y_train)"
   ]
  },
  {
   "cell_type": "code",
   "execution_count": 37,
   "metadata": {},
   "outputs": [
    {
     "data": {
      "text/html": [
       "<div>\n",
       "<style scoped>\n",
       "    .dataframe tbody tr th:only-of-type {\n",
       "        vertical-align: middle;\n",
       "    }\n",
       "\n",
       "    .dataframe tbody tr th {\n",
       "        vertical-align: top;\n",
       "    }\n",
       "\n",
       "    .dataframe thead th {\n",
       "        text-align: right;\n",
       "    }\n",
       "</style>\n",
       "<table border=\"1\" class=\"dataframe\">\n",
       "  <thead>\n",
       "    <tr style=\"text-align: right;\">\n",
       "      <th></th>\n",
       "      <th>mean_fit_time</th>\n",
       "      <th>std_fit_time</th>\n",
       "      <th>mean_score_time</th>\n",
       "      <th>std_score_time</th>\n",
       "      <th>param_learning_rate</th>\n",
       "      <th>param_subsample</th>\n",
       "      <th>params</th>\n",
       "      <th>split0_test_score</th>\n",
       "      <th>split1_test_score</th>\n",
       "      <th>split2_test_score</th>\n",
       "      <th>mean_test_score</th>\n",
       "      <th>std_test_score</th>\n",
       "      <th>rank_test_score</th>\n",
       "      <th>split0_train_score</th>\n",
       "      <th>split1_train_score</th>\n",
       "      <th>split2_train_score</th>\n",
       "      <th>mean_train_score</th>\n",
       "      <th>std_train_score</th>\n",
       "    </tr>\n",
       "  </thead>\n",
       "  <tbody>\n",
       "    <tr>\n",
       "      <th>0</th>\n",
       "      <td>0.032056</td>\n",
       "      <td>0.000140</td>\n",
       "      <td>0.007426</td>\n",
       "      <td>0.006417</td>\n",
       "      <td>0.2</td>\n",
       "      <td>0.2</td>\n",
       "      <td>{'learning_rate': 0.2, 'subsample': 0.2}</td>\n",
       "      <td>0.817187</td>\n",
       "      <td>0.830438</td>\n",
       "      <td>0.799421</td>\n",
       "      <td>0.815682</td>\n",
       "      <td>0.012707</td>\n",
       "      <td>4</td>\n",
       "      <td>0.965329</td>\n",
       "      <td>0.966146</td>\n",
       "      <td>0.970712</td>\n",
       "      <td>0.967396</td>\n",
       "      <td>0.002369</td>\n",
       "    </tr>\n",
       "    <tr>\n",
       "      <th>1</th>\n",
       "      <td>0.035943</td>\n",
       "      <td>0.000451</td>\n",
       "      <td>0.002864</td>\n",
       "      <td>0.000015</td>\n",
       "      <td>0.2</td>\n",
       "      <td>0.4</td>\n",
       "      <td>{'learning_rate': 0.2, 'subsample': 0.4}</td>\n",
       "      <td>0.830049</td>\n",
       "      <td>0.805762</td>\n",
       "      <td>0.824924</td>\n",
       "      <td>0.820245</td>\n",
       "      <td>0.010453</td>\n",
       "      <td>3</td>\n",
       "      <td>0.990522</td>\n",
       "      <td>0.991451</td>\n",
       "      <td>0.994987</td>\n",
       "      <td>0.992320</td>\n",
       "      <td>0.001924</td>\n",
       "    </tr>\n",
       "    <tr>\n",
       "      <th>2</th>\n",
       "      <td>0.037146</td>\n",
       "      <td>0.000190</td>\n",
       "      <td>0.002886</td>\n",
       "      <td>0.000027</td>\n",
       "      <td>0.2</td>\n",
       "      <td>0.6</td>\n",
       "      <td>{'learning_rate': 0.2, 'subsample': 0.6}</td>\n",
       "      <td>0.837438</td>\n",
       "      <td>0.810725</td>\n",
       "      <td>0.821754</td>\n",
       "      <td>0.823306</td>\n",
       "      <td>0.010961</td>\n",
       "      <td>2</td>\n",
       "      <td>0.996554</td>\n",
       "      <td>0.996189</td>\n",
       "      <td>0.998798</td>\n",
       "      <td>0.997180</td>\n",
       "      <td>0.001154</td>\n",
       "    </tr>\n",
       "    <tr>\n",
       "      <th>3</th>\n",
       "      <td>0.035921</td>\n",
       "      <td>0.000579</td>\n",
       "      <td>0.002728</td>\n",
       "      <td>0.000122</td>\n",
       "      <td>0.2</td>\n",
       "      <td>0.8</td>\n",
       "      <td>{'learning_rate': 0.2, 'subsample': 0.8}</td>\n",
       "      <td>0.832649</td>\n",
       "      <td>0.842432</td>\n",
       "      <td>0.834023</td>\n",
       "      <td>0.836368</td>\n",
       "      <td>0.004324</td>\n",
       "      <td>1</td>\n",
       "      <td>0.998070</td>\n",
       "      <td>0.996670</td>\n",
       "      <td>0.998249</td>\n",
       "      <td>0.997663</td>\n",
       "      <td>0.000706</td>\n",
       "    </tr>\n",
       "    <tr>\n",
       "      <th>4</th>\n",
       "      <td>0.032561</td>\n",
       "      <td>0.001487</td>\n",
       "      <td>0.002769</td>\n",
       "      <td>0.000174</td>\n",
       "      <td>0.4</td>\n",
       "      <td>0.2</td>\n",
       "      <td>{'learning_rate': 0.4, 'subsample': 0.2}</td>\n",
       "      <td>0.777778</td>\n",
       "      <td>0.734629</td>\n",
       "      <td>0.755997</td>\n",
       "      <td>0.756135</td>\n",
       "      <td>0.017616</td>\n",
       "      <td>11</td>\n",
       "      <td>0.968535</td>\n",
       "      <td>0.970335</td>\n",
       "      <td>0.977305</td>\n",
       "      <td>0.972058</td>\n",
       "      <td>0.003782</td>\n",
       "    </tr>\n",
       "    <tr>\n",
       "      <th>5</th>\n",
       "      <td>0.035630</td>\n",
       "      <td>0.000765</td>\n",
       "      <td>0.002866</td>\n",
       "      <td>0.000019</td>\n",
       "      <td>0.4</td>\n",
       "      <td>0.4</td>\n",
       "      <td>{'learning_rate': 0.4, 'subsample': 0.4}</td>\n",
       "      <td>0.835112</td>\n",
       "      <td>0.755032</td>\n",
       "      <td>0.799421</td>\n",
       "      <td>0.796522</td>\n",
       "      <td>0.032757</td>\n",
       "      <td>10</td>\n",
       "      <td>0.998415</td>\n",
       "      <td>0.998730</td>\n",
       "      <td>0.999657</td>\n",
       "      <td>0.998934</td>\n",
       "      <td>0.000527</td>\n",
       "    </tr>\n",
       "    <tr>\n",
       "      <th>6</th>\n",
       "      <td>0.036117</td>\n",
       "      <td>0.000149</td>\n",
       "      <td>0.002922</td>\n",
       "      <td>0.000016</td>\n",
       "      <td>0.4</td>\n",
       "      <td>0.6</td>\n",
       "      <td>{'learning_rate': 0.4, 'subsample': 0.6}</td>\n",
       "      <td>0.834428</td>\n",
       "      <td>0.778329</td>\n",
       "      <td>0.816791</td>\n",
       "      <td>0.809849</td>\n",
       "      <td>0.023422</td>\n",
       "      <td>7</td>\n",
       "      <td>1.000000</td>\n",
       "      <td>1.000000</td>\n",
       "      <td>1.000000</td>\n",
       "      <td>1.000000</td>\n",
       "      <td>0.000000</td>\n",
       "    </tr>\n",
       "    <tr>\n",
       "      <th>7</th>\n",
       "      <td>0.107849</td>\n",
       "      <td>0.101886</td>\n",
       "      <td>0.002987</td>\n",
       "      <td>0.000220</td>\n",
       "      <td>0.4</td>\n",
       "      <td>0.8</td>\n",
       "      <td>{'learning_rate': 0.4, 'subsample': 0.8}</td>\n",
       "      <td>0.827449</td>\n",
       "      <td>0.792666</td>\n",
       "      <td>0.825338</td>\n",
       "      <td>0.815151</td>\n",
       "      <td>0.015923</td>\n",
       "      <td>5</td>\n",
       "      <td>1.000000</td>\n",
       "      <td>1.000000</td>\n",
       "      <td>1.000000</td>\n",
       "      <td>1.000000</td>\n",
       "      <td>0.000000</td>\n",
       "    </tr>\n",
       "    <tr>\n",
       "      <th>8</th>\n",
       "      <td>0.089348</td>\n",
       "      <td>0.076448</td>\n",
       "      <td>0.002952</td>\n",
       "      <td>0.000178</td>\n",
       "      <td>0.6</td>\n",
       "      <td>0.2</td>\n",
       "      <td>{'learning_rate': 0.6, 'subsample': 0.2}</td>\n",
       "      <td>0.775041</td>\n",
       "      <td>0.684174</td>\n",
       "      <td>0.793907</td>\n",
       "      <td>0.751041</td>\n",
       "      <td>0.047905</td>\n",
       "      <td>12</td>\n",
       "      <td>0.950855</td>\n",
       "      <td>0.951451</td>\n",
       "      <td>0.962918</td>\n",
       "      <td>0.955075</td>\n",
       "      <td>0.005552</td>\n",
       "    </tr>\n",
       "    <tr>\n",
       "      <th>9</th>\n",
       "      <td>0.034091</td>\n",
       "      <td>0.000284</td>\n",
       "      <td>0.002784</td>\n",
       "      <td>0.000055</td>\n",
       "      <td>0.6</td>\n",
       "      <td>0.4</td>\n",
       "      <td>{'learning_rate': 0.6, 'subsample': 0.4}</td>\n",
       "      <td>0.807882</td>\n",
       "      <td>0.778191</td>\n",
       "      <td>0.807830</td>\n",
       "      <td>0.797968</td>\n",
       "      <td>0.013984</td>\n",
       "      <td>9</td>\n",
       "      <td>0.999793</td>\n",
       "      <td>0.999657</td>\n",
       "      <td>1.000000</td>\n",
       "      <td>0.999817</td>\n",
       "      <td>0.000141</td>\n",
       "    </tr>\n",
       "    <tr>\n",
       "      <th>10</th>\n",
       "      <td>0.035687</td>\n",
       "      <td>0.000441</td>\n",
       "      <td>0.002867</td>\n",
       "      <td>0.000040</td>\n",
       "      <td>0.6</td>\n",
       "      <td>0.6</td>\n",
       "      <td>{'learning_rate': 0.6, 'subsample': 0.6}</td>\n",
       "      <td>0.821565</td>\n",
       "      <td>0.812517</td>\n",
       "      <td>0.807417</td>\n",
       "      <td>0.813833</td>\n",
       "      <td>0.005851</td>\n",
       "      <td>6</td>\n",
       "      <td>1.000000</td>\n",
       "      <td>1.000000</td>\n",
       "      <td>1.000000</td>\n",
       "      <td>1.000000</td>\n",
       "      <td>0.000000</td>\n",
       "    </tr>\n",
       "    <tr>\n",
       "      <th>11</th>\n",
       "      <td>0.040163</td>\n",
       "      <td>0.005509</td>\n",
       "      <td>0.004885</td>\n",
       "      <td>0.002850</td>\n",
       "      <td>0.6</td>\n",
       "      <td>0.8</td>\n",
       "      <td>{'learning_rate': 0.6, 'subsample': 0.8}</td>\n",
       "      <td>0.824576</td>\n",
       "      <td>0.799283</td>\n",
       "      <td>0.801627</td>\n",
       "      <td>0.808495</td>\n",
       "      <td>0.011411</td>\n",
       "      <td>8</td>\n",
       "      <td>1.000000</td>\n",
       "      <td>1.000000</td>\n",
       "      <td>1.000000</td>\n",
       "      <td>1.000000</td>\n",
       "      <td>0.000000</td>\n",
       "    </tr>\n",
       "  </tbody>\n",
       "</table>\n",
       "</div>"
      ],
      "text/plain": [
       "    mean_fit_time  std_fit_time  mean_score_time  std_score_time  \\\n",
       "0        0.032056      0.000140         0.007426        0.006417   \n",
       "1        0.035943      0.000451         0.002864        0.000015   \n",
       "2        0.037146      0.000190         0.002886        0.000027   \n",
       "3        0.035921      0.000579         0.002728        0.000122   \n",
       "4        0.032561      0.001487         0.002769        0.000174   \n",
       "5        0.035630      0.000765         0.002866        0.000019   \n",
       "6        0.036117      0.000149         0.002922        0.000016   \n",
       "7        0.107849      0.101886         0.002987        0.000220   \n",
       "8        0.089348      0.076448         0.002952        0.000178   \n",
       "9        0.034091      0.000284         0.002784        0.000055   \n",
       "10       0.035687      0.000441         0.002867        0.000040   \n",
       "11       0.040163      0.005509         0.004885        0.002850   \n",
       "\n",
       "   param_learning_rate param_subsample  \\\n",
       "0                  0.2             0.2   \n",
       "1                  0.2             0.4   \n",
       "2                  0.2             0.6   \n",
       "3                  0.2             0.8   \n",
       "4                  0.4             0.2   \n",
       "5                  0.4             0.4   \n",
       "6                  0.4             0.6   \n",
       "7                  0.4             0.8   \n",
       "8                  0.6             0.2   \n",
       "9                  0.6             0.4   \n",
       "10                 0.6             0.6   \n",
       "11                 0.6             0.8   \n",
       "\n",
       "                                      params  split0_test_score  \\\n",
       "0   {'learning_rate': 0.2, 'subsample': 0.2}           0.817187   \n",
       "1   {'learning_rate': 0.2, 'subsample': 0.4}           0.830049   \n",
       "2   {'learning_rate': 0.2, 'subsample': 0.6}           0.837438   \n",
       "3   {'learning_rate': 0.2, 'subsample': 0.8}           0.832649   \n",
       "4   {'learning_rate': 0.4, 'subsample': 0.2}           0.777778   \n",
       "5   {'learning_rate': 0.4, 'subsample': 0.4}           0.835112   \n",
       "6   {'learning_rate': 0.4, 'subsample': 0.6}           0.834428   \n",
       "7   {'learning_rate': 0.4, 'subsample': 0.8}           0.827449   \n",
       "8   {'learning_rate': 0.6, 'subsample': 0.2}           0.775041   \n",
       "9   {'learning_rate': 0.6, 'subsample': 0.4}           0.807882   \n",
       "10  {'learning_rate': 0.6, 'subsample': 0.6}           0.821565   \n",
       "11  {'learning_rate': 0.6, 'subsample': 0.8}           0.824576   \n",
       "\n",
       "    split1_test_score  split2_test_score  mean_test_score  std_test_score  \\\n",
       "0            0.830438           0.799421         0.815682        0.012707   \n",
       "1            0.805762           0.824924         0.820245        0.010453   \n",
       "2            0.810725           0.821754         0.823306        0.010961   \n",
       "3            0.842432           0.834023         0.836368        0.004324   \n",
       "4            0.734629           0.755997         0.756135        0.017616   \n",
       "5            0.755032           0.799421         0.796522        0.032757   \n",
       "6            0.778329           0.816791         0.809849        0.023422   \n",
       "7            0.792666           0.825338         0.815151        0.015923   \n",
       "8            0.684174           0.793907         0.751041        0.047905   \n",
       "9            0.778191           0.807830         0.797968        0.013984   \n",
       "10           0.812517           0.807417         0.813833        0.005851   \n",
       "11           0.799283           0.801627         0.808495        0.011411   \n",
       "\n",
       "    rank_test_score  split0_train_score  split1_train_score  \\\n",
       "0                 4            0.965329            0.966146   \n",
       "1                 3            0.990522            0.991451   \n",
       "2                 2            0.996554            0.996189   \n",
       "3                 1            0.998070            0.996670   \n",
       "4                11            0.968535            0.970335   \n",
       "5                10            0.998415            0.998730   \n",
       "6                 7            1.000000            1.000000   \n",
       "7                 5            1.000000            1.000000   \n",
       "8                12            0.950855            0.951451   \n",
       "9                 9            0.999793            0.999657   \n",
       "10                6            1.000000            1.000000   \n",
       "11                8            1.000000            1.000000   \n",
       "\n",
       "    split2_train_score  mean_train_score  std_train_score  \n",
       "0             0.970712          0.967396         0.002369  \n",
       "1             0.994987          0.992320         0.001924  \n",
       "2             0.998798          0.997180         0.001154  \n",
       "3             0.998249          0.997663         0.000706  \n",
       "4             0.977305          0.972058         0.003782  \n",
       "5             0.999657          0.998934         0.000527  \n",
       "6             1.000000          1.000000         0.000000  \n",
       "7             1.000000          1.000000         0.000000  \n",
       "8             0.962918          0.955075         0.005552  \n",
       "9             1.000000          0.999817         0.000141  \n",
       "10            1.000000          1.000000         0.000000  \n",
       "11            1.000000          1.000000         0.000000  "
      ]
     },
     "execution_count": 37,
     "metadata": {},
     "output_type": "execute_result"
    }
   ],
   "source": [
    "# cv results\n",
    "cv_results = pd.DataFrame(model_cv.cv_results_)\n",
    "cv_results"
   ]
  },
  {
   "cell_type": "code",
   "execution_count": 38,
   "metadata": {},
   "outputs": [
    {
     "data": {
      "text/html": [
       "<div>\n",
       "<style scoped>\n",
       "    .dataframe tbody tr th:only-of-type {\n",
       "        vertical-align: middle;\n",
       "    }\n",
       "\n",
       "    .dataframe tbody tr th {\n",
       "        vertical-align: top;\n",
       "    }\n",
       "\n",
       "    .dataframe thead th {\n",
       "        text-align: right;\n",
       "    }\n",
       "</style>\n",
       "<table border=\"1\" class=\"dataframe\">\n",
       "  <thead>\n",
       "    <tr style=\"text-align: right;\">\n",
       "      <th></th>\n",
       "      <th>mean_fit_time</th>\n",
       "      <th>std_fit_time</th>\n",
       "      <th>mean_score_time</th>\n",
       "      <th>std_score_time</th>\n",
       "      <th>param_learning_rate</th>\n",
       "      <th>param_subsample</th>\n",
       "      <th>params</th>\n",
       "      <th>split0_test_score</th>\n",
       "      <th>split1_test_score</th>\n",
       "      <th>split2_test_score</th>\n",
       "      <th>mean_test_score</th>\n",
       "      <th>std_test_score</th>\n",
       "      <th>rank_test_score</th>\n",
       "      <th>split0_train_score</th>\n",
       "      <th>split1_train_score</th>\n",
       "      <th>split2_train_score</th>\n",
       "      <th>mean_train_score</th>\n",
       "      <th>std_train_score</th>\n",
       "    </tr>\n",
       "  </thead>\n",
       "  <tbody>\n",
       "    <tr>\n",
       "      <th>0</th>\n",
       "      <td>0.032056</td>\n",
       "      <td>0.000140</td>\n",
       "      <td>0.007426</td>\n",
       "      <td>0.006417</td>\n",
       "      <td>0.2</td>\n",
       "      <td>0.2</td>\n",
       "      <td>{'learning_rate': 0.2, 'subsample': 0.2}</td>\n",
       "      <td>0.817187</td>\n",
       "      <td>0.830438</td>\n",
       "      <td>0.799421</td>\n",
       "      <td>0.815682</td>\n",
       "      <td>0.012707</td>\n",
       "      <td>4</td>\n",
       "      <td>0.965329</td>\n",
       "      <td>0.966146</td>\n",
       "      <td>0.970712</td>\n",
       "      <td>0.967396</td>\n",
       "      <td>0.002369</td>\n",
       "    </tr>\n",
       "    <tr>\n",
       "      <th>1</th>\n",
       "      <td>0.035943</td>\n",
       "      <td>0.000451</td>\n",
       "      <td>0.002864</td>\n",
       "      <td>0.000015</td>\n",
       "      <td>0.2</td>\n",
       "      <td>0.4</td>\n",
       "      <td>{'learning_rate': 0.2, 'subsample': 0.4}</td>\n",
       "      <td>0.830049</td>\n",
       "      <td>0.805762</td>\n",
       "      <td>0.824924</td>\n",
       "      <td>0.820245</td>\n",
       "      <td>0.010453</td>\n",
       "      <td>3</td>\n",
       "      <td>0.990522</td>\n",
       "      <td>0.991451</td>\n",
       "      <td>0.994987</td>\n",
       "      <td>0.992320</td>\n",
       "      <td>0.001924</td>\n",
       "    </tr>\n",
       "    <tr>\n",
       "      <th>2</th>\n",
       "      <td>0.037146</td>\n",
       "      <td>0.000190</td>\n",
       "      <td>0.002886</td>\n",
       "      <td>0.000027</td>\n",
       "      <td>0.2</td>\n",
       "      <td>0.6</td>\n",
       "      <td>{'learning_rate': 0.2, 'subsample': 0.6}</td>\n",
       "      <td>0.837438</td>\n",
       "      <td>0.810725</td>\n",
       "      <td>0.821754</td>\n",
       "      <td>0.823306</td>\n",
       "      <td>0.010961</td>\n",
       "      <td>2</td>\n",
       "      <td>0.996554</td>\n",
       "      <td>0.996189</td>\n",
       "      <td>0.998798</td>\n",
       "      <td>0.997180</td>\n",
       "      <td>0.001154</td>\n",
       "    </tr>\n",
       "    <tr>\n",
       "      <th>3</th>\n",
       "      <td>0.035921</td>\n",
       "      <td>0.000579</td>\n",
       "      <td>0.002728</td>\n",
       "      <td>0.000122</td>\n",
       "      <td>0.2</td>\n",
       "      <td>0.8</td>\n",
       "      <td>{'learning_rate': 0.2, 'subsample': 0.8}</td>\n",
       "      <td>0.832649</td>\n",
       "      <td>0.842432</td>\n",
       "      <td>0.834023</td>\n",
       "      <td>0.836368</td>\n",
       "      <td>0.004324</td>\n",
       "      <td>1</td>\n",
       "      <td>0.998070</td>\n",
       "      <td>0.996670</td>\n",
       "      <td>0.998249</td>\n",
       "      <td>0.997663</td>\n",
       "      <td>0.000706</td>\n",
       "    </tr>\n",
       "    <tr>\n",
       "      <th>4</th>\n",
       "      <td>0.032561</td>\n",
       "      <td>0.001487</td>\n",
       "      <td>0.002769</td>\n",
       "      <td>0.000174</td>\n",
       "      <td>0.4</td>\n",
       "      <td>0.2</td>\n",
       "      <td>{'learning_rate': 0.4, 'subsample': 0.2}</td>\n",
       "      <td>0.777778</td>\n",
       "      <td>0.734629</td>\n",
       "      <td>0.755997</td>\n",
       "      <td>0.756135</td>\n",
       "      <td>0.017616</td>\n",
       "      <td>11</td>\n",
       "      <td>0.968535</td>\n",
       "      <td>0.970335</td>\n",
       "      <td>0.977305</td>\n",
       "      <td>0.972058</td>\n",
       "      <td>0.003782</td>\n",
       "    </tr>\n",
       "  </tbody>\n",
       "</table>\n",
       "</div>"
      ],
      "text/plain": [
       "   mean_fit_time  std_fit_time  mean_score_time  std_score_time  \\\n",
       "0       0.032056      0.000140         0.007426        0.006417   \n",
       "1       0.035943      0.000451         0.002864        0.000015   \n",
       "2       0.037146      0.000190         0.002886        0.000027   \n",
       "3       0.035921      0.000579         0.002728        0.000122   \n",
       "4       0.032561      0.001487         0.002769        0.000174   \n",
       "\n",
       "   param_learning_rate param_subsample  \\\n",
       "0                  0.2             0.2   \n",
       "1                  0.2             0.4   \n",
       "2                  0.2             0.6   \n",
       "3                  0.2             0.8   \n",
       "4                  0.4             0.2   \n",
       "\n",
       "                                     params  split0_test_score  \\\n",
       "0  {'learning_rate': 0.2, 'subsample': 0.2}           0.817187   \n",
       "1  {'learning_rate': 0.2, 'subsample': 0.4}           0.830049   \n",
       "2  {'learning_rate': 0.2, 'subsample': 0.6}           0.837438   \n",
       "3  {'learning_rate': 0.2, 'subsample': 0.8}           0.832649   \n",
       "4  {'learning_rate': 0.4, 'subsample': 0.2}           0.777778   \n",
       "\n",
       "   split1_test_score  split2_test_score  mean_test_score  std_test_score  \\\n",
       "0           0.830438           0.799421         0.815682        0.012707   \n",
       "1           0.805762           0.824924         0.820245        0.010453   \n",
       "2           0.810725           0.821754         0.823306        0.010961   \n",
       "3           0.842432           0.834023         0.836368        0.004324   \n",
       "4           0.734629           0.755997         0.756135        0.017616   \n",
       "\n",
       "   rank_test_score  split0_train_score  split1_train_score  \\\n",
       "0                4            0.965329            0.966146   \n",
       "1                3            0.990522            0.991451   \n",
       "2                2            0.996554            0.996189   \n",
       "3                1            0.998070            0.996670   \n",
       "4               11            0.968535            0.970335   \n",
       "\n",
       "   split2_train_score  mean_train_score  std_train_score  \n",
       "0            0.970712          0.967396         0.002369  \n",
       "1            0.994987          0.992320         0.001924  \n",
       "2            0.998798          0.997180         0.001154  \n",
       "3            0.998249          0.997663         0.000706  \n",
       "4            0.977305          0.972058         0.003782  "
      ]
     },
     "execution_count": 38,
     "metadata": {},
     "output_type": "execute_result"
    }
   ],
   "source": [
    "# convert parameters to int for plotting on x-axis\n",
    "cv_results['param_learning_rate'] = cv_results['param_learning_rate'].astype('float')\n",
    "# cv_results['param_max_depth'] = cv_results['param_max_depth'].astype('float')\n",
    "cv_results.head()"
   ]
  },
  {
   "cell_type": "code",
   "execution_count": 39,
   "metadata": {},
   "outputs": [
    {
     "data": {
      "image/png": "[encoded data removed]",
      "text/plain": [
       "<Figure size 1152x432 with 4 Axes>"
      ]
     },
     "metadata": {
      "needs_background": "light"
     },
     "output_type": "display_data"
    }
   ],
   "source": [
    "# # plotting\n",
    "plt.figure(figsize=(16,6))\n",
    "\n",
    "param_grid = {'learning_rate': [0.2, 0.4, 0.6], \n",
    "             'subsample': [0.2, 0.4, 0.6, 0.8]} \n",
    "\n",
    "\n",
    "for n, subsample in enumerate(param_grid['subsample']):\n",
    "    \n",
    "\n",
    "    # subplot 1/n\n",
    "    plt.subplot(1,len(param_grid['subsample']), n+1)\n",
    "    df = cv_results[cv_results['param_subsample']==subsample]\n",
    "\n",
    "    plt.plot(df[\"param_learning_rate\"], df[\"mean_test_score\"])\n",
    "    plt.plot(df[\"param_learning_rate\"], df[\"mean_train_score\"])\n",
    "    plt.xlabel('learning_rate')\n",
    "    plt.ylabel('AUC')\n",
    "    plt.title(\"subsample={0}\".format(subsample))\n",
    "    plt.ylim([0.60, 1])\n",
    "    plt.legend(['test score', 'train score'], loc='upper left')\n",
    "    plt.xscale('log')"
   ]
  },
  {
   "cell_type": "markdown",
   "metadata": {},
   "source": [
    "From above figure, we find out that the first plot with subsample = 0.3, is the best among the three, as unlike others it does not overfit the trainnig data at learning rate of 0.2.\n",
    "\n",
    "So we shall take, the subsample = 0.3, and the learning_rate as 0.2, and build our model"
   ]
  },
  {
   "cell_type": "code",
   "execution_count": 40,
   "metadata": {},
   "outputs": [
    {
     "data": {
      "text/plain": [
       "XGBClassifier(base_score=0.5, booster=None, colsample_bylevel=1,\n",
       "              colsample_bynode=1, colsample_bytree=1, gamma=0, gpu_id=-1,\n",
       "              importance_type='gain', interaction_constraints=None,\n",
       "              learning_rate=0.300000012, max_delta_step=0, max_depth=6,\n",
       "              min_child_weight=1, missing=nan, monotone_constraints=None,\n",
       "              n_estimators=100, n_jobs=0, num_parallel_tree=1,\n",
       "              objective='binary:logistic',\n",
       "              params={'learning_rate': 0.2, 'max_depth': 2, 'n_estimators': 200,\n",
       "                      'objective': 'binary:logistic', 'subsample': 0.4},\n",
       "              random_state=0, reg_alpha=0, reg_lambda=1, scale_pos_weight=1,\n",
       "              subsample=1, tree_method=None, validate_parameters=False,\n",
       "              verbosity=None)"
      ]
     },
     "execution_count": 40,
     "metadata": {},
     "output_type": "execute_result"
    }
   ],
   "source": [
    "# chosen hyperparameters\n",
    "# 'objective':'binary:logistic' outputs probability rather than label, which we need for auc\n",
    "\n",
    "# Lets choose the best params,\n",
    "params = {'learning_rate': 0.2,\n",
    "          'max_depth': 2, \n",
    "          'n_estimators':200,\n",
    "          'subsample':0.4,\n",
    "         'objective':'binary:logistic'}\n",
    "\n",
    "# fit model on training data\n",
    "model = XGBClassifier(params = params)\n",
    "model.fit(X_train, y_train)"
   ]
  },
  {
   "cell_type": "code",
   "execution_count": 41,
   "metadata": {},
   "outputs": [
    {
     "name": "stdout",
     "output_type": "stream",
     "text": [
      "              precision    recall  f1-score   support\n",
      "\n",
      "           0       0.78      0.81      0.80       150\n",
      "           1       0.63      0.58      0.60        81\n",
      "\n",
      "    accuracy                           0.73       231\n",
      "   macro avg       0.70      0.70      0.70       231\n",
      "weighted avg       0.73      0.73      0.73       231\n",
      "\n",
      "[[122  28]\n",
      " [ 34  47]]\n"
     ]
    }
   ],
   "source": [
    "# classification metrics\n",
    "from sklearn.metrics import classification_report,confusion_matrix\n",
    "y_pred = model.predict(X_test)\n",
    "print(classification_report(y_test, y_pred))\n",
    "\n",
    "# confusion matrix on test data\n",
    "print(confusion_matrix(y_test,y_pred))"
   ]
  },
  {
   "cell_type": "markdown",
   "metadata": {},
   "source": [
    "So we are getting a better accuracy from our xgboost model (model), than our randomforestclassifier (forest1), accuracy being 73.16%\n",
    "\n",
    "Lets also check the roc - auc"
   ]
  },
  {
   "cell_type": "code",
   "execution_count": 42,
   "metadata": {},
   "outputs": [
    {
     "data": {
      "text/plain": [
       "0.782798353909465"
      ]
     },
     "execution_count": 42,
     "metadata": {},
     "output_type": "execute_result"
    }
   ],
   "source": [
    "# predict the prob. rather than label, since we want to compute roc auc.\n",
    "y_pred = model.predict_proba(X_test)\n",
    "\n",
    "# roc_auc\n",
    "auc = sklearn.metrics.roc_auc_score(y_test, y_pred[:, 1])\n",
    "auc"
   ]
  },
  {
   "cell_type": "markdown",
   "metadata": {},
   "source": [
    "We observe that our XGBoost model and RandomForestClassifier performance are not much different. Its just that the accuracy in xgboost has slightly increased."
   ]
  }
 ],
 "metadata": {
  "kernelspec": {
   "display_name": "Python 3",
   "language": "python",
   "name": "python3"
  },
  "language_info": {
   "codemirror_mode": {
    "name": "ipython",
    "version": 3
   },
   "file_extension": ".py",
   "mimetype": "text/x-python",
   "name": "python",
   "nbconvert_exporter": "python",
   "pygments_lexer": "ipython3",
   "version": "3.7.6"
  }
 },
 "nbformat": 4,
 "nbformat_minor": 4
}
